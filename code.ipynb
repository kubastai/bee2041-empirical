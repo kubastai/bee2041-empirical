{
 "cells": [
  {
   "cell_type": "markdown",
   "metadata": {},
   "source": [
    "Project code\n",
    "\n"
   ]
  },
  {
   "cell_type": "code",
   "execution_count": 53,
   "metadata": {},
   "outputs": [
    {
     "name": "stdout",
     "output_type": "stream",
     "text": [
      "['Sport', 'London', 'Rio', 'Tokyo**', 'Paris*']\n",
      "['Archery', '£3,479,900', '£2,473,437', '£1,122,879', '£2,632,674']\n",
      "['Artistic Swimming', '£2,686,800', '£1,011,290', '£251,000', '£467,250']\n",
      "['Athletics', '£20,613,100', '£21,820,808', '£22,416,808', '£22,175,520']\n",
      "['Badminton', '£5,979,860', '£4,922,229', '£889,793', '£3,322,558']\n",
      "['Baseball', '-', '-', '£30,500', '£176,250']\n",
      "['Basketball', '£7,127,800', '£1,927,061', '£330,500', '£1,350,000']\n",
      "['Boxing', '£7,551,900', '£11,151,737', '£11,606,057', '£11,597,507']\n",
      "['Breaking', '-', '-', '-', '£135,000']\n",
      "['Canoeing', '£12,981,800', '£16,293,651', '£15,765,693', '£13,081,836']\n",
      "['Cycling', '£20,613,900', '£23,966,916', '£24,559,306', '£29,172,590']\n",
      "['Diving', '£5,190,700', '£6,133,760', '£7,172,659', '£8,860,542']\n",
      "['Equestrian', '£10,580,200', '£14,397,300', '£11,951,195', '£11,763,376']\n",
      "['Fencing', '£2,132,346', '£3,593,344', '£341,631', '£1,542,015']\n",
      "['Gymnastics', '£8,734,100', '£11,791,228', '£13,285,417', '£13,180,313']\n",
      "['Handball', '£2,924,721', '-', '£8,400', '£375,000']\n",
      "['Hockey', '£11,915,500', '£12,489,618', '£12,640,301', '£13,379,120']\n",
      "['Judo', '£6,048,700', '£6,004,700', '£6,425,471', '£6,244,538']\n",
      "['Karate', '-', '-', '£771,439', '-']\n",
      "['Modern Pentathlon', '£4,990,900', '£5,586,124', '£5,176,847', '£5,360,432']\n",
      "['Rowing', '£21,579,000', '£26,156,762', '£23,682,934', '£22,822,008']\n",
      "['Sailing', '£18,133,000', '£21,469,835', '£21,796,891', '£22,348,411']\n",
      "['Shooting', '£2,461,866', '£3,452,146', '£5,892,790', '£6,130,092']\n",
      "['Skateboarding', '-', '-', '£178,165', '£1,819,485']\n",
      "['Softball', '-', '-', '£62,500', '£428,750']\n",
      "['Sport Climbing', '-', '-', '£737,365', '£1,629,345']\n",
      "['Surfing', '-', '-', '£131,093', '£1,350,000']\n",
      "['Swimming', '£20,195,800', '£17,138,391', '£18,046,062', '£18,242,735']\n",
      "['Table Tennis', '£1,132,648', '-', '£325,100', '£1,350,000']\n",
      "['Taekwondo', '£3,827,600', '£6,653,992', '£8,158,805', '£8,194,987']\n",
      "['Triathlon', '£4,210,100', '£6,308,664', '£6,808,283', '£7,005,550']\n",
      "['Volleyball', '£3,993,318', '£108,466', '£73,350', '£286,000']\n",
      "['Water Polo', '£2,874,544', '£890,725', '-', '£375,000']\n",
      "['Weightlifting', '£1,246,157', '£1,470,540', '£215,900', '£2,270,000']\n",
      "['Wrestling', '£1,435,210', '-', '£50,700', '£276,000']\n",
      "['Total', '£214,641,470', '£227,212,724', '£220,906,834', '£239,344,884']\n"
     ]
    }
   ],
   "source": [
    "# Scrape data for historical funding figures\n",
    "\n",
    "import requests\n",
    "from bs4 import BeautifulSoup\n",
    "\n",
    "# Get the webpage\n",
    "url = 'https://www.uksport.gov.uk/our-work/investing-in-sport/historical-funding-figures'\n",
    "response = requests.get(url)\n",
    "soup = BeautifulSoup(response.text, 'html.parser')\n",
    "\n",
    "# Find the heading before the table\n",
    "heading = soup.find('h3', string=\"Summer Olympic Sports\")\n",
    "\n",
    "# Get the next table after the heading\n",
    "table = heading.find_next('table') \n",
    "\n",
    "# Extract and save the data\n",
    "\n",
    "rows = table.find_all('tr')\n",
    "\n",
    "data = []\n",
    "for row in rows:\n",
    "    cells = row.find_all(['th', 'td'])\n",
    "    print([cell.get_text(strip=True) for cell in cells])\n"
   ]
  }
 ],
 "metadata": {
  "kernelspec": {
   "display_name": "Python 3",
   "language": "python",
   "name": "python3"
  },
  "language_info": {
   "codemirror_mode": {
    "name": "ipython",
    "version": 3
   },
   "file_extension": ".py",
   "mimetype": "text/x-python",
   "name": "python",
   "nbconvert_exporter": "python",
   "pygments_lexer": "ipython3",
   "version": "3.13.1"
  }
 },
 "nbformat": 4,
 "nbformat_minor": 2
}
